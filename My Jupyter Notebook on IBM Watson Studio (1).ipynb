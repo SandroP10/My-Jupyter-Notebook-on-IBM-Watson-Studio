{
 "cells": [
  {
   "cell_type": "markdown",
   "id": "37affd9a",
   "metadata": {},
   "source": [
    "# My Jupyter Notebook on IBM Watson Studio"
   ]
  },
  {
   "cell_type": "markdown",
   "id": "87731012",
   "metadata": {},
   "source": [
    "**Sandro**\n",
    "Business Analyst"
   ]
  },
  {
   "cell_type": "markdown",
   "id": "853402ef",
   "metadata": {},
   "source": [
    "*I am interested in data science because leveraging data is fascinating to me.*"
   ]
  },
  {
   "cell_type": "markdown",
   "id": "51a9f6b9",
   "metadata": {},
   "source": [
    "### The code in the next cell calcualtes the result of 5+5."
   ]
  },
  {
   "cell_type": "code",
   "execution_count": 1,
   "id": "71ed6daf",
   "metadata": {},
   "outputs": [
    {
     "name": "stdout",
     "output_type": "stream",
     "text": [
      "10\n"
     ]
    }
   ],
   "source": [
    "print(5+5)"
   ]
  },
  {
   "cell_type": "markdown",
   "id": "1c3b0f7c",
   "metadata": {},
   "source": [
    "- Test\n",
    "- Test 2\n",
    "- Test 3\n",
    "\n",
    "Col1 |Col2 |Col3\n",
    "-----|-----|----- \n",
    "Data1|Data2|Data3\n",
    "Data1|Data2|Data3\n",
    "Data1|Data2|Data3\n",
    "Data1|Data2|Data3\n",
    "\n",
    "[Google](http://google.com)"
   ]
  },
  {
   "cell_type": "markdown",
   "id": "6e3c1d8b",
   "metadata": {},
   "source": []
  }
 ],
 "metadata": {
  "kernelspec": {
   "display_name": "Python 3 (ipykernel)",
   "language": "python",
   "name": "python3"
  },
  "language_info": {
   "codemirror_mode": {
    "name": "ipython",
    "version": 3
   },
   "file_extension": ".py",
   "mimetype": "text/x-python",
   "name": "python",
   "nbconvert_exporter": "python",
   "pygments_lexer": "ipython3",
   "version": "3.9.13"
  }
 },
 "nbformat": 4,
 "nbformat_minor": 5
}
